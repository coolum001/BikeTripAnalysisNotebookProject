{
 "cells": [
  {
   "cell_type": "code",
   "execution_count": 1,
   "metadata": {},
   "outputs": [],
   "source": [
    "from pathlib import Path"
   ]
  },
  {
   "cell_type": "code",
   "execution_count": 5,
   "metadata": {},
   "outputs": [],
   "source": [
    "notebook_name = 'C:\\\\Users\\\\donrc\\\\AppData\\\\Local\\\\GitHub\\\\PortableGit_f02737a78695063deace08e96d5042710d3e32db\\\\cmd\\\\git.exe'\n",
    "here = Path('.')\n",
    "notebook_path = here / notebook_name \n",
    "assert  notebook_path.exists(), 'Notebook not found: ' + notebook_name"
   ]
  },
  {
   "cell_type": "code",
   "execution_count": null,
   "metadata": {},
   "outputs": [],
   "source": []
  }
 ],
 "metadata": {
  "kernelspec": {
   "display_name": "Python [conda env:root36]",
   "language": "python",
   "name": "conda-env-root36-py"
  },
  "language_info": {
   "codemirror_mode": {
    "name": "ipython",
    "version": 3
   },
   "file_extension": ".py",
   "mimetype": "text/x-python",
   "name": "python",
   "nbconvert_exporter": "python",
   "pygments_lexer": "ipython3",
   "version": "3.6.3"
  }
 },
 "nbformat": 4,
 "nbformat_minor": 2
}
